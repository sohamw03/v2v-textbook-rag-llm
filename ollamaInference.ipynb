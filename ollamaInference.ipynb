{
 "cells": [
  {
   "cell_type": "code",
   "execution_count": 1,
   "metadata": {},
   "outputs": [
    {
     "data": {
      "text/plain": [
       "{'status': 'success'}"
      ]
     },
     "execution_count": 1,
     "metadata": {},
     "output_type": "execute_result"
    }
   ],
   "source": [
    "# !pip install ollama\n",
    "import ollama\n",
    "\n",
    "ollama.pull(\"phi\")\n",
    "# !ollama serve &"
   ]
  },
  {
   "cell_type": "code",
   "execution_count": null,
   "metadata": {},
   "outputs": [],
   "source": [
    "from langchain_community.llms import Ollama\n",
    "\n",
    "model = Ollama(model=\"phi\")\n",
    "\n",
    "# model.invoke(\"If I have an apple, and I give you an apple, how many apples do you have?\")\n",
    "query = \"If I have an apple, and I give you an apple, how many apples do you have?\"\n",
    "\n",
    "for chunks in model.stream(query):\n",
    "    print(chunks, end=\"\")"
   ]
  },
  {
   "cell_type": "code",
   "execution_count": null,
   "metadata": {},
   "outputs": [],
   "source": [
    "ollama.show(\"phi\")"
   ]
  },
  {
   "cell_type": "code",
   "execution_count": 3,
   "metadata": {},
   "outputs": [
    {
     "name": "stdout",
     "output_type": "stream",
     "text": [
      "messages=[HumanMessage(content='Answer the question based only on the following context:\n",
      "    [Document(page_content='1.3 States of Matter  \\nObserve different types of matter around you. What are its different states? We can see that matter around us exists in three different states- solid, liquid and gas. These states of matter arise due to the variation in the characteristics of the particles of matter.  \\nNow, let us study about the properties of these three states of matter in detail.'), Document(page_content='Matter is made up of small particles.  \\nThe matter around us exists in three states-solid, liquid and gas.  \\n<figure>  \\n![](figures/1)  \\n<!-- FigureContent=\"nota\\nThe forces of attraction between the particles are maximum in solids, intermediate in liquids and minimum in gases.\\n.\" -->  \\n</figure>  \\nThe spaces in between the constituent particles and kinetic energy of the particles are minimum in the case of solids, intermediate in liquids and maximum in gases.  \\n<!-- PageFooter=\"SCIENCE\" -->  \\n<!-- PageFooter=\"Rationalised 2023-24\" -->  \\n<!-- PageNumber=\"10\" -->', metadata={'Header 1': 'What you have learnt'}), Document(page_content='The arrangement of particles is most ordered in the case of solids, in the case of liquids layers of particles can slip and slide over each other while for gases, there is no order, particles just move about randomly.  \\nThe states of matter are inter-convertible. The state of matter can be changed by changing temperature or pressure.  \\n. Sublimation is the change of solid state directly to gaseous state without going through liquid state.  \\n· Deposition is the change of gaseous state directly to solid state without going through liquid state.  \\n· Boiling is a bulk phenomenon. Particles from the bulk (whole) of the liquid change into vapour state.  \\nEvaporation is a surface phenomenon. Particles from the surface gain enough energy to overcome the forces of attraction present in the liquid and change into the vapour state.  \\nThe rate of evaporation depends upon the surface area exposed to the atmosphere, the temperature, the humidity and the wind speed.  \\n. Evaporation causes cooling. to  \\n· Latent heat of vaporisation is the heat energy required to change 1 kg of a liquid to gas at atmospheric pressure at its boiling point.  \\nLatent heat of fusion is the amount of heat energy required to change 1 kg of solid into liquid at its melting point.  \\nSome measurable quantities and their units to remember:  \\n|\\nnot to Quantity | Unit | Symbol |\\n| - | - | - |\\n| Temperature | kelvin | K |\\n| Length | metre | m |\\n| Mass | kilogram | kg |\\n| Weight | newton | N |\\n| Volume | cubic metre | m3 |\\n| Density | kilogram per cubic metre | kg m-3 |\\n| Pressure | pascal | Pa |  \\n<!-- PageFooter=\"MATTER IN OUR SURROUNDINGS\" -->  \\n<!-- PageNumber=\"11\" -->  \\n<!-- PageFooter=\"Rationalised 2023-24\" -->'), Document(page_content=\"We all know from our observation that water can exist in three states of matter-  \\n. solid, as ice,  \\n· liquid, as the familiar water, and  \\n. gas, as water vapour.  \\nWhat happens inside the matter during this change of state? What happens to the particles of matter during the change of states? How does this change of state take place? We need answers to these questions, isn't it?\", metadata={'Header 1': '1.4 Can Matter Change its State?'})]\n",
      "    \n",
      "    Question: Explain topic states of matter')]\n"
     ]
    }
   ],
   "source": [
    "print(\"\"\"messages=[HumanMessage(content='Answer the question based only on the following context:\\n    [Document(page_content=\\'1.3 States of Matter  \\\\nObserve different types of matter around you. What are its different states? We can see that matter around us exists in three different states- solid, liquid and gas. These states of matter arise due to the variation in the characteristics of the particles of matter.  \\\\nNow, let us study about the properties of these three states of matter in detail.\\'), Document(page_content=\\'Matter is made up of small particles.  \\\\nThe matter around us exists in three states-solid, liquid and gas.  \\\\n<figure>  \\\\n![](figures/1)  \\\\n<!-- FigureContent=\"nota\\\\nThe forces of attraction between the particles are maximum in solids, intermediate in liquids and minimum in gases.\\\\n.\" -->  \\\\n</figure>  \\\\nThe spaces in between the constituent particles and kinetic energy of the particles are minimum in the case of solids, intermediate in liquids and maximum in gases.  \\\\n<!-- PageFooter=\"SCIENCE\" -->  \\\\n<!-- PageFooter=\"Rationalised 2023-24\" -->  \\\\n<!-- PageNumber=\"10\" -->\\', metadata={\\'Header 1\\': \\'What you have learnt\\'}), Document(page_content=\\'The arrangement of particles is most ordered in the case of solids, in the case of liquids layers of particles can slip and slide over each other while for gases, there is no order, particles just move about randomly.  \\\\nThe states of matter are inter-convertible. The state of matter can be changed by changing temperature or pressure.  \\\\n. Sublimation is the change of solid state directly to gaseous state without going through liquid state.  \\\\n· Deposition is the change of gaseous state directly to solid state without going through liquid state.  \\\\n· Boiling is a bulk phenomenon. Particles from the bulk (whole) of the liquid change into vapour state.  \\\\nEvaporation is a surface phenomenon. Particles from the surface gain enough energy to overcome the forces of attraction present in the liquid and change into the vapour state.  \\\\nThe rate of evaporation depends upon the surface area exposed to the atmosphere, the temperature, the humidity and the wind speed.  \\\\n. Evaporation causes cooling. to  \\\\n· Latent heat of vaporisation is the heat energy required to change 1 kg of a liquid to gas at atmospheric pressure at its boiling point.  \\\\nLatent heat of fusion is the amount of heat energy required to change 1 kg of solid into liquid at its melting point.  \\\\nSome measurable quantities and their units to remember:  \\\\n|\\\\nnot to Quantity | Unit | Symbol |\\\\n| - | - | - |\\\\n| Temperature | kelvin | K |\\\\n| Length | metre | m |\\\\n| Mass | kilogram | kg |\\\\n| Weight | newton | N |\\\\n| Volume | cubic metre | m3 |\\\\n| Density | kilogram per cubic metre | kg m-3 |\\\\n| Pressure | pascal | Pa |  \\\\n<!-- PageFooter=\"MATTER IN OUR SURROUNDINGS\" -->  \\\\n<!-- PageNumber=\"11\" -->  \\\\n<!-- PageFooter=\"Rationalised 2023-24\" -->\\'), Document(page_content=\"We all know from our observation that water can exist in three states of matter-  \\\\n. solid, as ice,  \\\\n· liquid, as the familiar water, and  \\\\n. gas, as water vapour.  \\\\nWhat happens inside the matter during this change of state? What happens to the particles of matter during the change of states? How does this change of state take place? We need answers to these questions, isn\\'t it?\", metadata={\\'Header 1\\': \\'1.4 Can Matter Change its State?\\'})]\\n    \\n    Question: Explain topic states of matter')]\"\"\")"
   ]
  }
 ],
 "metadata": {
  "kernelspec": {
   "display_name": "Python 3",
   "language": "python",
   "name": "python3"
  },
  "language_info": {
   "codemirror_mode": {
    "name": "ipython",
    "version": 3
   },
   "file_extension": ".py",
   "mimetype": "text/x-python",
   "name": "python",
   "nbconvert_exporter": "python",
   "pygments_lexer": "ipython3",
   "version": "3.9.11"
  }
 },
 "nbformat": 4,
 "nbformat_minor": 2
}
